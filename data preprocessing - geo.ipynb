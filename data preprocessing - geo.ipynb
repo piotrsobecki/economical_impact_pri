{
 "cells": [
  {
   "cell_type": "code",
   "execution_count": 1,
   "metadata": {},
   "outputs": [],
   "source": [
    "import pandas as pd\n",
    "import geopy\n",
    "from geopy.geocoders import Nominatim\n",
    "from geopy.extra.rate_limiter import RateLimiter\n",
    "\n",
    "\n",
    "\n",
    "institutions_df = pd.read_excel('out\\polon_discp.xlsx')"
   ]
  },
  {
   "cell_type": "code",
   "execution_count": 2,
   "metadata": {},
   "outputs": [
    {
     "data": {
      "text/plain": [
       "Index(['uid', 'name', 'status', 'fullName', 'code',\n",
       "       'supervisingInstitutionName', 'kind', 'dateFrom', 'regon', 'www',\n",
       "       'phoneNumber', 'email', 'isLaboratory', 'isLibrary', 'isScientific',\n",
       "       'country', 'city', 'street', 'buildingNumber', 'postalCode',\n",
       "       'postalCity', 'voivodeship', 'name_clean', 'liquidationStart',\n",
       "       'faxNumber', 'localNumber', 'dateTo', 'nip', 'universityType',\n",
       "       'scientificInstitutionType', 'krs', 'Unikalny identyfikator rekordu',\n",
       "       'Nazwa instytucji', 'Okres ewaluacji', 'dos_archeologia',\n",
       "       'dos_architektura i urbanistyka', 'dos_astronomia',\n",
       "       'dos_automatyka, elektronika i elektrotechnika',\n",
       "       'dos_ekonomia i finanse', 'dos_filozofia',\n",
       "       'dos_geografia społeczno-ekonomiczna i gospodarka przestrzenna',\n",
       "       'dos_historia', 'dos_informatyka',\n",
       "       'dos_informatyka techniczna i telekomunikacja',\n",
       "       'dos_inżynieria biomedyczna', 'dos_inżynieria chemiczna',\n",
       "       'dos_inżynieria lądowa i transport', 'dos_inżynieria materiałowa',\n",
       "       'dos_inżynieria mechaniczna',\n",
       "       'dos_inżynieria środowiska, górnictwo i energetyka',\n",
       "       'dos_językoznawstwo', 'dos_literaturoznawstwo', 'dos_matematyka',\n",
       "       'dos_nauki biologiczne', 'dos_nauki chemiczne',\n",
       "       'dos_nauki farmaceutyczne', 'dos_nauki fizyczne', 'dos_nauki leśne',\n",
       "       'dos_nauki medyczne', 'dos_nauki o Ziemi i środowisku',\n",
       "       'dos_nauki o bezpieczeństwie',\n",
       "       'dos_nauki o komunikacji społecznej i mediach',\n",
       "       'dos_nauki o kulturze fizycznej', 'dos_nauki o kulturze i religii',\n",
       "       'dos_nauki o polityce i administracji', 'dos_nauki o sztuce',\n",
       "       'dos_nauki o zarządzaniu i jakości', 'dos_nauki o zdrowiu',\n",
       "       'dos_nauki prawne', 'dos_nauki socjologiczne', 'dos_nauki teologiczne',\n",
       "       'dos_pedagogika', 'dos_prawo kanoniczne', 'dos_psychologia',\n",
       "       'dos_rolnictwo i ogrodnictwo', 'dos_sztuki filmowe i teatralne',\n",
       "       'dos_sztuki muzyczne',\n",
       "       'dos_sztuki plastyczne i konserwacja dzieł sztuki',\n",
       "       'dos_technologia żywności i żywienia', 'dos_weterynaria',\n",
       "       'dos_zootechnika i rybactwo', 'fos_dziedzina nauk humanistycznych',\n",
       "       'fos_dziedzina nauk inżynieryjno-technicznych',\n",
       "       'fos_dziedzina nauk medycznych i nauk o zdrowiu',\n",
       "       'fos_dziedzina nauk rolniczych', 'fos_dziedzina nauk społecznych',\n",
       "       'fos_dziedzina nauk teologicznych',\n",
       "       'fos_dziedzina nauk ścisłych i przyrodniczych', 'fos_dziedzina sztuki'],\n",
       "      dtype='object')"
      ]
     },
     "execution_count": 2,
     "metadata": {},
     "output_type": "execute_result"
    }
   ],
   "source": [
    "institutions_df.columns"
   ]
  },
  {
   "cell_type": "code",
   "execution_count": 3,
   "metadata": {},
   "outputs": [],
   "source": [
    "\n",
    "str_none = institutions_df['street'].isna()\n",
    "\n",
    "institutions_df.loc[~str_none, 'address'] = institutions_df[~str_none]['street'].apply(lambda st: str(st).replace('ul.','').replace('al.','').replace('pl.','').strip()) +' ' + institutions_df['buildingNumber'] + ', ' + institutions_df['postalCode'] + ', ' + institutions_df['city'] + ', ' + institutions_df['country']\n",
    "institutions_df.loc[str_none, 'address'] = institutions_df['postalCode'] + ', ' + institutions_df['city'] +' ' + institutions_df['buildingNumber']+ ', ' + institutions_df['country']"
   ]
  },
  {
   "cell_type": "code",
   "execution_count": 4,
   "metadata": {},
   "outputs": [],
   "source": [
    "\n",
    "locator = Nominatim(user_agent=\"myGeocoder\")\n",
    "\n",
    "geocode = RateLimiter(locator.geocode, min_delay_seconds=1)\n",
    "institutions_df['location'] = institutions_df['address'].apply(geocode)\n",
    "institutions_df['point'] = institutions_df['location'].apply(lambda loc: tuple(loc.point) if loc else None)"
   ]
  },
  {
   "cell_type": "code",
   "execution_count": 5,
   "metadata": {},
   "outputs": [],
   "source": [
    "na_point = institutions_df['point'].isna()\n",
    "\n",
    "institutions_df['address2'] =  institutions_df['city'] + ', ' + institutions_df['postalCode'] +', ' + institutions_df['country']\n",
    "\n",
    "institutions_df.loc[na_point,'location'] = institutions_df.loc[na_point,'address2'].apply(geocode)\n",
    "institutions_df.loc[na_point,'point'] = institutions_df.loc[na_point,'location'].apply(lambda loc: tuple(loc.point) if loc else None)\n",
    "\n"
   ]
  },
  {
   "cell_type": "code",
   "execution_count": 6,
   "metadata": {},
   "outputs": [],
   "source": [
    "na_point = institutions_df['point'].isna()\n",
    "\n",
    "institutions_df['address3'] =  institutions_df['city'] + ', ' +institutions_df['country']\n",
    "\n",
    "institutions_df.loc[na_point,'location'] = institutions_df.loc[na_point,'address3'].apply(geocode)\n",
    "institutions_df.loc[na_point,'point'] = institutions_df.loc[na_point,'location'].apply(lambda loc: tuple(loc.point) if loc else None)\n",
    "\n"
   ]
  },
  {
   "cell_type": "code",
   "execution_count": 7,
   "metadata": {},
   "outputs": [],
   "source": [
    "del institutions_df['address']\n",
    "del institutions_df['address2']\n",
    "del institutions_df['address3']"
   ]
  },
  {
   "cell_type": "code",
   "execution_count": 8,
   "metadata": {},
   "outputs": [],
   "source": [
    "\n",
    "institutions_df.to_excel('out/polon_discp.xlsx', index=False, encoding='utf-8')\n"
   ]
  }
 ],
 "metadata": {
  "kernelspec": {
   "display_name": "Python 3.9.13",
   "language": "python",
   "name": "python3"
  },
  "language_info": {
   "codemirror_mode": {
    "name": "ipython",
    "version": 3
   },
   "file_extension": ".py",
   "mimetype": "text/x-python",
   "name": "python",
   "nbconvert_exporter": "python",
   "pygments_lexer": "ipython3",
   "version": "3.7.15 (default, Nov 24 2022, 18:44:54) [MSC v.1916 64 bit (AMD64)]"
  },
  "orig_nbformat": 4,
  "vscode": {
   "interpreter": {
    "hash": "83377723d691db61035c6fd23c563c12d6dbbaa335fba9a2871bcfaac6a5e868"
   }
  }
 },
 "nbformat": 4,
 "nbformat_minor": 2
}

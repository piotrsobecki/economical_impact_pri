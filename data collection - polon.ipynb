{
 "cells": [
  {
   "cell_type": "code",
   "execution_count": 2,
   "metadata": {},
   "outputs": [],
   "source": [
    "from uplink import Consumer, get, post, Body, returns, Field, headers\n",
    "from uplink import json as uplink_json\n",
    "import json\n"
   ]
  },
  {
   "cell_type": "code",
   "execution_count": 3,
   "metadata": {},
   "outputs": [],
   "source": [
    "api_url = 'https://polon.nauka.gov.pl/opi-ws/'\n"
   ]
  },
  {
   "cell_type": "code",
   "execution_count": 4,
   "metadata": {},
   "outputs": [],
   "source": [
    "class PolonAPI(Consumer):\n",
    "\n",
    "    @returns.json\n",
    "    @get(\"api/academicInstitutions\")\n",
    "    def academic_institutions(self): pass\n",
    "\n",
    "    @returns.json\n",
    "    @get(\"api/scientificInstitutions\")\n",
    "    def scientific_institutions(self): pass\n",
    "\n",
    "    @returns.json\n",
    "    @get(\"api/institutions/{uid}\")\n",
    "    def institution(self, uid: str): pass\n",
    "\n",
    "\n",
    "polon_api = PolonAPI(base_url=api_url)\n"
   ]
  },
  {
   "cell_type": "code",
   "execution_count": 5,
   "metadata": {},
   "outputs": [],
   "source": [
    "academic_institutions = polon_api.academic_institutions()\n",
    "scientific_institutions = polon_api.scientific_institutions()\n"
   ]
  },
  {
   "cell_type": "code",
   "execution_count": 6,
   "metadata": {},
   "outputs": [],
   "source": [
    "# Remove string ' w likwidacji' from institution name string\n",
    "def clean_institution_name(iname):\n",
    "    iname = iname.replace(' w likwidacji', '').strip()\n",
    "    iname = iname.replace(' Polskiej Akademii Nauk', '').strip()\n",
    "    iname = iname.replace(' - Państwowy Instytut Badawczy', '').strip()\n",
    "    iname = iname.replace(' - PIB', '').strip()\n",
    "    iname = iname.replace(' - Instytut Badawczy', '').strip()\n",
    "    iname = iname.replace('Sieć Badawcza Łukasiewicz - ', '').strip()\n",
    "    return iname\n",
    "\n",
    "\n",
    "\n",
    "def clean_inst_detail_data(inst_detail_data):\n",
    "    inst_detail_data.pop('results', None)\n",
    "    inst_detail_data.pop('version', None)\n",
    "    inst_detail_data.pop('mainUid', None)\n",
    "    #inst_detail_data.pop('address', None)\n",
    "    inst_detail_data.update(inst_detail_data.pop('address', {}))\n",
    "\n",
    "    inst_detail_data['name_clean'] = clean_institution_name(\n",
    "        inst_detail_data['name'])\n"
   ]
  },
  {
   "cell_type": "code",
   "execution_count": 7,
   "metadata": {},
   "outputs": [],
   "source": [
    "for inst_data in scientific_institutions['scientificInstitutions']:\n",
    "    uid = inst_data['uid']\n",
    "    inst_data.update(polon_api.institution(uid))\n",
    "    clean_inst_detail_data(inst_data)\n",
    "\n",
    "\n",
    "for inst_data in academic_institutions['institutions']:\n",
    "    uid = inst_data['uid']\n",
    "    inst_data.update(polon_api.institution(uid))\n",
    "    clean_inst_detail_data(inst_data)\n",
    "\n",
    "\n",
    "academic_institutions['institutions'].extend(\n",
    "    scientific_institutions['scientificInstitutions'])\n"
   ]
  },
  {
   "cell_type": "code",
   "execution_count": 8,
   "metadata": {},
   "outputs": [],
   "source": [
    "import pandas as pd\n",
    "\n",
    "institutions_df = pd.DataFrame(academic_institutions['institutions'])\n",
    "\n"
   ]
  },
  {
   "cell_type": "code",
   "execution_count": 9,
   "metadata": {},
   "outputs": [],
   "source": [
    "# Convert instutions_disciplines so that each column represents one discipline\n",
    "institutions_disciplines = pd.read_excel(\n",
    "    'zestawienie.xlsx', index_col='Lp').ffill(axis=0)\n",
    "\n",
    "\n",
    "dos_dummy = pd.get_dummies(\n",
    "    institutions_disciplines['Dyscypliny - Nazwa dyscypliny'])\n",
    "fos_dummy = pd.get_dummies(\n",
    "    institutions_disciplines['Dyscypliny - Nazwa dziedziny'])\n",
    "\n",
    "dos_dummy.columns = ['dos_'+col for col in dos_dummy.columns]\n",
    "fos_dummy.columns = ['fos_'+col for col in fos_dummy.columns]\n",
    "\n",
    "\n",
    "institutions_disciplines.drop(\n",
    "    'Dyscypliny - Nazwa dyscypliny', axis=1, inplace=True)\n",
    "institutions_disciplines.drop(\n",
    "    'Dyscypliny - Nazwa dziedziny', axis=1, inplace=True)\n",
    "\n",
    "\n",
    "institutions_disciplines = institutions_disciplines.join(dos_dummy)\n",
    "\n",
    "institutions_disciplines = institutions_disciplines.join(fos_dummy)\n",
    "\n",
    "institutions_disciplines = institutions_disciplines.groupby(['Unikalny identyfikator rekordu', 'Nazwa instytucji']).max().reset_index()\n",
    "\n"
   ]
  },
  {
   "cell_type": "code",
   "execution_count": 10,
   "metadata": {},
   "outputs": [
    {
     "data": {
      "text/plain": [
       "283"
      ]
     },
     "execution_count": 10,
     "metadata": {},
     "output_type": "execute_result"
    }
   ],
   "source": [
    "len(institutions_disciplines)\n"
   ]
  },
  {
   "cell_type": "code",
   "execution_count": 11,
   "metadata": {},
   "outputs": [],
   "source": [
    "# Merge on name where possible\n",
    "in_discp = institutions_df.merge(\n",
    "    institutions_disciplines, left_on='name', right_on='Nazwa instytucji', how='left')\n"
   ]
  },
  {
   "cell_type": "code",
   "execution_count": 12,
   "metadata": {},
   "outputs": [],
   "source": [
    "\n",
    "#institutions_df.to_excel('out/polon.xlsx', index=False, encoding='utf-8')\n",
    "in_discp.to_excel('out/polon_discp.xlsx', index=False, encoding='utf-8')\n"
   ]
  }
 ],
 "metadata": {
  "kernelspec": {
   "display_name": "Python 3.9.13",
   "language": "python",
   "name": "python3"
  },
  "language_info": {
   "codemirror_mode": {
    "name": "ipython",
    "version": 3
   },
   "file_extension": ".py",
   "mimetype": "text/x-python",
   "name": "python",
   "nbconvert_exporter": "python",
   "pygments_lexer": "ipython3",
   "version": "3.7.15 (default, Nov 24 2022, 18:44:54) [MSC v.1916 64 bit (AMD64)]"
  },
  "orig_nbformat": 4,
  "vscode": {
   "interpreter": {
    "hash": "83377723d691db61035c6fd23c563c12d6dbbaa335fba9a2871bcfaac6a5e868"
   }
  }
 },
 "nbformat": 4,
 "nbformat_minor": 2
}
